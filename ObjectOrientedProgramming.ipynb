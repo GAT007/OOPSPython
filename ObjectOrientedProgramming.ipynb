{
 "cells": [
  {
   "cell_type": "code",
   "id": "initial_id",
   "metadata": {
    "collapsed": true,
    "ExecuteTime": {
     "end_time": "2025-01-03T18:11:23.705257Z",
     "start_time": "2025-01-03T18:11:23.692109Z"
    }
   },
   "source": [
    "import csv\n",
    "\n",
    "\n",
    "class Item:\n",
    "    pay_rate = 0.8\n",
    "    all = []\n",
    "    def __init__(self, name:str, price:int, quantity:int=0):\n",
    "        assert price >= 0\n",
    "        assert quantity >= 0\n",
    "        self.name = name\n",
    "        self.price = price\n",
    "        self.quantity = quantity\n",
    "        Item.all.append(self)\n",
    "\n",
    "    def calculate_total_costs(self):\n",
    "        return self.price * self.quantity\n",
    "\n",
    "    def apply_discount(self):\n",
    "        self.price *= self.pay_rate\n",
    "\n",
    "    #Decorator to convert this into a class method\n",
    "    @classmethod\n",
    "    def instantiate_from_csv(cls, filename):\n",
    "        with open (filename, 'r') as f:\n",
    "            reader = csv.DictReader(f)\n",
    "            items = list(reader)\n",
    "\n",
    "        for item in items:\n",
    "            Item (\n",
    "                name = item.get('name'),\n",
    "                price = float(item.get('price')),\n",
    "                quantity = int(item.get('quantity'))\n",
    "            )\n",
    "\n",
    "    @staticmethod\n",
    "    def is_a_decimal(num):\n",
    "        if isinstance(num, float):\n",
    "            return num.is_integer()\n",
    "        elif isinstance(num, int):\n",
    "            return True\n",
    "\n",
    "\n",
    "    def __repr__(self):\n",
    "        return f\"Item('{self.name}', {self.price}, {self.quantity})\"\n",
    "\n",
    "Item.instantiate_from_csv('items.csv')\n",
    "\"\"\"\n",
    "item1 = Item(\"Phone\", 2, 10)\n",
    "print(item1.calculate_total_costs())\n",
    "print(item1.__dict__)\n",
    "item1.apply_discount()\n",
    "print(item1.price)\n",
    "\"\"\""
   ],
   "outputs": [
    {
     "data": {
      "text/plain": [
       "'\\nitem1 = Item(\"Phone\", 2, 10)\\nprint(item1.calculate_total_costs())\\nprint(item1.__dict__)\\nitem1.apply_discount()\\nprint(item1.price)\\n'"
      ]
     },
     "execution_count": 14,
     "metadata": {},
     "output_type": "execute_result"
    }
   ],
   "execution_count": 14
  },
  {
   "metadata": {
    "ExecuteTime": {
     "end_time": "2025-01-03T18:11:26.505979Z",
     "start_time": "2025-01-03T18:11:26.494848Z"
    }
   },
   "cell_type": "code",
   "source": [
    "print(Item.all)\n",
    "print(Item.is_a_decimal(8.4))"
   ],
   "id": "6f4b1d232a8e9c4f",
   "outputs": [
    {
     "name": "stdout",
     "output_type": "stream",
     "text": [
      "[Item('Phone', 200.0, 10), Item('Laptop', 1000.0, 10), Item('Suitcase', 350.0, 10), Item('Charger', 34.0, 10), Item('Bookmark', 2.0, 10)]\n",
      "False\n"
     ]
    }
   ],
   "execution_count": 15
  },
  {
   "metadata": {},
   "cell_type": "code",
   "outputs": [],
   "execution_count": null,
   "source": "",
   "id": "b072b420dd6f8b11"
  }
 ],
 "metadata": {
  "kernelspec": {
   "display_name": "Python 3",
   "language": "python",
   "name": "python3"
  },
  "language_info": {
   "codemirror_mode": {
    "name": "ipython",
    "version": 2
   },
   "file_extension": ".py",
   "mimetype": "text/x-python",
   "name": "python",
   "nbconvert_exporter": "python",
   "pygments_lexer": "ipython2",
   "version": "2.7.6"
  }
 },
 "nbformat": 4,
 "nbformat_minor": 5
}
