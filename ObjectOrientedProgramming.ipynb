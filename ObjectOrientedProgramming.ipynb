{
 "cells": [
  {
   "cell_type": "code",
   "id": "initial_id",
   "metadata": {
    "collapsed": true,
    "ExecuteTime": {
     "end_time": "2025-01-03T16:18:30.065805Z",
     "start_time": "2025-01-03T16:18:30.036919Z"
    }
   },
   "source": [
    "class Item:\n",
    "    pay_rate = 0.8\n",
    "    all = []\n",
    "    def __init__(self, name:str, price:int, quantity:int=0):\n",
    "        assert price >= 0\n",
    "        assert quantity >= 0\n",
    "        self.name = name\n",
    "        self.price = price\n",
    "        self.quantity = quantity\n",
    "        Item.all.append(self)\n",
    "\n",
    "    def calculate_total_costs(self):\n",
    "        return self.price * self.quantity\n",
    "\n",
    "    def apply_discount(self):\n",
    "        self.price *= self.pay_rate\n",
    "\n",
    "    def __repr__(self):\n",
    "        return self.name\n",
    "\n",
    "\"\"\"\n",
    "item1 = Item(\"Phone\", 2, 10)\n",
    "print(item1.calculate_total_costs())\n",
    "print(item1.__dict__)\n",
    "item1.apply_discount()\n",
    "print(item1.price)\n",
    "\"\"\""
   ],
   "outputs": [
    {
     "data": {
      "text/plain": [
       "'\\nitem1 = Item(\"Phone\", 2, 10)\\nprint(item1.calculate_total_costs())\\nprint(item1.__dict__)\\nitem1.apply_discount()\\nprint(item1.price)\\n'"
      ]
     },
     "execution_count": 4,
     "metadata": {},
     "output_type": "execute_result"
    }
   ],
   "execution_count": 4
  },
  {
   "metadata": {
    "ExecuteTime": {
     "end_time": "2025-01-03T16:18:14.498538Z",
     "start_time": "2025-01-03T16:18:14.487529Z"
    }
   },
   "cell_type": "code",
   "source": [
    "item1 = Item(\"Phone\", 200, 10)\n",
    "item2 = Item(\"Laptop\", 1000, 10)\n",
    "item3 = Item(\"Suitcase\", 350, 10)\n",
    "item4 = Item(\"Charger\", 34, 10)\n",
    "item5 = Item(\"Bookmark\", 2, 10)"
   ],
   "id": "48f1b7a68406360f",
   "outputs": [],
   "execution_count": 2
  },
  {
   "metadata": {
    "ExecuteTime": {
     "end_time": "2025-01-03T16:18:14.696188Z",
     "start_time": "2025-01-03T16:18:14.689838Z"
    }
   },
   "cell_type": "code",
   "source": "print(Item.all)",
   "id": "6f4b1d232a8e9c4f",
   "outputs": [
    {
     "name": "stdout",
     "output_type": "stream",
     "text": [
      "[Phone, Laptop, Suitcase, Charger, Bookmark]\n"
     ]
    }
   ],
   "execution_count": 3
  },
  {
   "metadata": {},
   "cell_type": "code",
   "outputs": [],
   "execution_count": null,
   "source": "",
   "id": "b072b420dd6f8b11"
  }
 ],
 "metadata": {
  "kernelspec": {
   "display_name": "Python 3",
   "language": "python",
   "name": "python3"
  },
  "language_info": {
   "codemirror_mode": {
    "name": "ipython",
    "version": 2
   },
   "file_extension": ".py",
   "mimetype": "text/x-python",
   "name": "python",
   "nbconvert_exporter": "python",
   "pygments_lexer": "ipython2",
   "version": "2.7.6"
  }
 },
 "nbformat": 4,
 "nbformat_minor": 5
}
