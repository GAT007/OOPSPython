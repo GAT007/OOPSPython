{
 "cells": [
  {
   "cell_type": "code",
   "id": "initial_id",
   "metadata": {
    "collapsed": true,
    "ExecuteTime": {
     "end_time": "2025-01-03T19:23:24.513629Z",
     "start_time": "2025-01-03T19:23:24.498336Z"
    }
   },
   "source": [
    "from item import Item\n",
    "from phone import Phone\n",
    "\n",
    "Item.instantiate_from_csv('items.csv')\n",
    "\"\"\"\n",
    "item1 = Item(\"Phone\", 2, 10)\n",
    "print(item1.calculate_total_costs())\n",
    "print(item1.__dict__)\n",
    "item1.apply_discount()\n",
    "print(item1.price)\n",
    "\"\"\""
   ],
   "outputs": [
    {
     "data": {
      "text/plain": [
       "'\\nitem1 = Item(\"Phone\", 2, 10)\\nprint(item1.calculate_total_costs())\\nprint(item1.__dict__)\\nitem1.apply_discount()\\nprint(item1.price)\\n'"
      ]
     },
     "execution_count": 37,
     "metadata": {},
     "output_type": "execute_result"
    }
   ],
   "execution_count": 37
  },
  {
   "metadata": {
    "ExecuteTime": {
     "end_time": "2025-01-03T19:03:40.377895Z",
     "start_time": "2025-01-03T19:03:40.370517Z"
    }
   },
   "cell_type": "code",
   "source": [
    "print(Item.all)\n",
    "print(Item.is_a_decimal(8.4))"
   ],
   "id": "6f4b1d232a8e9c4f",
   "outputs": [
    {
     "name": "stdout",
     "output_type": "stream",
     "text": [
      "[Item('Phone', 200.0, 10), Item('Laptop', 1000.0, 10), Item('Suitcase', 350.0, 10), Item('Charger', 34.0, 10), Item('Bookmark', 2.0, 10)]\n",
      "False\n"
     ]
    }
   ],
   "execution_count": 34
  },
  {
   "metadata": {
    "ExecuteTime": {
     "end_time": "2025-01-03T19:03:52.927500Z",
     "start_time": "2025-01-03T19:03:52.919672Z"
    }
   },
   "cell_type": "code",
   "source": "ph1 = Phone('Motorola', 15.45, 120, 5)",
   "id": "d4b1078f62047a83",
   "outputs": [],
   "execution_count": 35
  },
  {
   "metadata": {
    "ExecuteTime": {
     "end_time": "2025-01-03T19:03:54.486785Z",
     "start_time": "2025-01-03T19:03:54.467751Z"
    }
   },
   "cell_type": "code",
   "source": "print(Phone.all)",
   "id": "e30e66d5f93ae700",
   "outputs": [
    {
     "name": "stdout",
     "output_type": "stream",
     "text": [
      "[Item('Phone', 200.0, 10), Item('Laptop', 1000.0, 10), Item('Suitcase', 350.0, 10), Item('Charger', 34.0, 10), Item('Bookmark', 2.0, 10), Phone('Motorola', 15.45, 120, 5)]\n"
     ]
    }
   ],
   "execution_count": 36
  },
  {
   "metadata": {},
   "cell_type": "code",
   "outputs": [],
   "execution_count": null,
   "source": "",
   "id": "2c0ed8a2d04b2415"
  }
 ],
 "metadata": {
  "kernelspec": {
   "display_name": "Python 3",
   "language": "python",
   "name": "python3"
  },
  "language_info": {
   "codemirror_mode": {
    "name": "ipython",
    "version": 2
   },
   "file_extension": ".py",
   "mimetype": "text/x-python",
   "name": "python",
   "nbconvert_exporter": "python",
   "pygments_lexer": "ipython2",
   "version": "2.7.6"
  }
 },
 "nbformat": 4,
 "nbformat_minor": 5
}
