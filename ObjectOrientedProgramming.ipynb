{
 "cells": [
  {
   "cell_type": "code",
   "id": "initial_id",
   "metadata": {
    "collapsed": true,
    "ExecuteTime": {
     "end_time": "2025-01-03T18:57:14.814210Z",
     "start_time": "2025-01-03T18:57:14.782283Z"
    }
   },
   "source": [
    "import csv\n",
    "\n",
    "\n",
    "class Item:\n",
    "    pay_rate = 0.8\n",
    "    all = []\n",
    "    def __init__(self, name:str, price:int, quantity:int=0):\n",
    "        assert price >= 0\n",
    "        assert quantity >= 0\n",
    "        self.name = name\n",
    "        self.price = price\n",
    "        self.quantity = quantity\n",
    "        Item.all.append(self)\n",
    "\n",
    "    def calculate_total_costs(self):\n",
    "        return self.price * self.quantity\n",
    "\n",
    "    def apply_discount(self):\n",
    "        self.price *= self.pay_rate\n",
    "\n",
    "    #Decorator to convert this into a class method\n",
    "    @classmethod\n",
    "    def instantiate_from_csv(cls, filename):\n",
    "        with open (filename, 'r') as f:\n",
    "            reader = csv.DictReader(f)\n",
    "            items = list(reader)\n",
    "\n",
    "        for item in items:\n",
    "            Item (\n",
    "                name = item.get('name'),\n",
    "                price = float(item.get('price')),\n",
    "                quantity = int(item.get('quantity'))\n",
    "            )\n",
    "\n",
    "    @staticmethod\n",
    "    def is_a_decimal(num):\n",
    "        if isinstance(num, float):\n",
    "            return num.is_integer()\n",
    "        elif isinstance(num, int):\n",
    "            return True\n",
    "\n",
    "\n",
    "    def __repr__(self):\n",
    "        return f\"{self.__class__.__name__}('{self.name}', {self.price}, {self.quantity})\"\n",
    "\n",
    "Item.instantiate_from_csv('items.csv')\n",
    "\"\"\"\n",
    "item1 = Item(\"Phone\", 2, 10)\n",
    "print(item1.calculate_total_costs())\n",
    "print(item1.__dict__)\n",
    "item1.apply_discount()\n",
    "print(item1.price)\n",
    "\"\"\""
   ],
   "outputs": [
    {
     "data": {
      "text/plain": [
       "'\\nitem1 = Item(\"Phone\", 2, 10)\\nprint(item1.calculate_total_costs())\\nprint(item1.__dict__)\\nitem1.apply_discount()\\nprint(item1.price)\\n'"
      ]
     },
     "execution_count": 28,
     "metadata": {},
     "output_type": "execute_result"
    }
   ],
   "execution_count": 28
  },
  {
   "metadata": {
    "ExecuteTime": {
     "end_time": "2025-01-03T18:57:17.951658Z",
     "start_time": "2025-01-03T18:57:17.942476Z"
    }
   },
   "cell_type": "code",
   "source": [
    "print(Item.all)\n",
    "print(Item.is_a_decimal(8.4))"
   ],
   "id": "6f4b1d232a8e9c4f",
   "outputs": [
    {
     "name": "stdout",
     "output_type": "stream",
     "text": [
      "[Item('Phone', 200.0, 10), Item('Laptop', 1000.0, 10), Item('Suitcase', 350.0, 10), Item('Charger', 34.0, 10), Item('Bookmark', 2.0, 10)]\n",
      "False\n"
     ]
    }
   ],
   "execution_count": 29
  },
  {
   "metadata": {
    "ExecuteTime": {
     "end_time": "2025-01-03T18:59:33.092192Z",
     "start_time": "2025-01-03T18:59:33.076791Z"
    }
   },
   "cell_type": "code",
   "source": [
    "class Phone(Item):\n",
    "    def __init__(self, name: str, price: int, quantity: int = 0, broken_phones: int = 0):\n",
    "        #Call to super to have access to all of base class attributes/ methods\n",
    "        super().__init__(\n",
    "            name, price, quantity\n",
    "        )\n",
    "        #Do checks before assigning\n",
    "        assert broken_phones>=0, f\"{broken_phones} cannot be less than 0\"\n",
    "\n",
    "        #Assign to the instance variable\n",
    "        self.broken_phones = broken_phones\n",
    "\n",
    "    def __repr__(self):\n",
    "            return f\"{self.__class__.__name__}('{self.name}', {self.price}, {self.quantity}, {self.broken_phones})\"\n",
    "\n"
   ],
   "id": "b072b420dd6f8b11",
   "outputs": [],
   "execution_count": 30
  },
  {
   "metadata": {
    "ExecuteTime": {
     "end_time": "2025-01-03T18:59:35.759649Z",
     "start_time": "2025-01-03T18:59:35.747633Z"
    }
   },
   "cell_type": "code",
   "source": "ph1 = Phone('Motorola', 15.45, 120, 5)",
   "id": "d4b1078f62047a83",
   "outputs": [],
   "execution_count": 31
  },
  {
   "metadata": {
    "ExecuteTime": {
     "end_time": "2025-01-03T18:59:37.164849Z",
     "start_time": "2025-01-03T18:59:37.157348Z"
    }
   },
   "cell_type": "code",
   "source": "print(Phone.all)",
   "id": "e30e66d5f93ae700",
   "outputs": [
    {
     "name": "stdout",
     "output_type": "stream",
     "text": [
      "[Item('Phone', 200.0, 10), Item('Laptop', 1000.0, 10), Item('Suitcase', 350.0, 10), Item('Charger', 34.0, 10), Item('Bookmark', 2.0, 10), Phone('Motorola', 15.45, 120, 5)]\n"
     ]
    }
   ],
   "execution_count": 32
  },
  {
   "metadata": {},
   "cell_type": "code",
   "outputs": [],
   "execution_count": null,
   "source": "",
   "id": "2c0ed8a2d04b2415"
  }
 ],
 "metadata": {
  "kernelspec": {
   "display_name": "Python 3",
   "language": "python",
   "name": "python3"
  },
  "language_info": {
   "codemirror_mode": {
    "name": "ipython",
    "version": 2
   },
   "file_extension": ".py",
   "mimetype": "text/x-python",
   "name": "python",
   "nbconvert_exporter": "python",
   "pygments_lexer": "ipython2",
   "version": "2.7.6"
  }
 },
 "nbformat": 4,
 "nbformat_minor": 5
}
